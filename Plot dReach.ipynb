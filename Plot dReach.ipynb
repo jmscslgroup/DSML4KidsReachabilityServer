{
 "cells": [
  {
   "cell_type": "code",
   "execution_count": 52,
   "metadata": {},
   "outputs": [
    {
     "name": "stdout",
     "output_type": "stream",
     "text": [
      "Adding 10 to X\n",
      "Adding 10 to Y\n",
      "Adding 10 to X\n",
      "Adding 10 to Y\n",
      "Adding 10 to X\n",
      "Adding 10 to Y\n",
      "Adding 10 to Y\n",
      "Adding 10 to X\n"
     ]
    }
   ],
   "source": [
    "# Read in the JSON\n",
    "import json\n",
    "\n",
    "resolution = 10\n",
    "\n",
    "data = None\n",
    "x = []\n",
    "y = []\n",
    "with open(\"dReachTempFile_4_0.smt2.json\", \"r\") as smt2_json:\n",
    "    data = json.loads(\"\".join(smt2_json.readlines()))\n",
    "    \n",
    "    # Itterate through each step\n",
    "    for trace in data[\"traces\"]:\n",
    "        # The last trace is always None\n",
    "        if trace is None:\n",
    "            break\n",
    "            \n",
    "        # Itterate through each variable in the step\n",
    "        for var_in_mode in trace:\n",
    "            # The _last varaibles aren't important to plot\n",
    "            if \"last\" in var_in_mode[\"key\"]:\n",
    "                continue\n",
    "            \n",
    "            values = []\n",
    "            first = round(var_in_mode[\"values\"][0][\"enclosure\"][0])\n",
    "            last = round(var_in_mode[\"values\"][-1][\"enclosure\"][-1])\n",
    "            \n",
    "            diff = last - first\n",
    "            if diff == 0:\n",
    "                values = [first for _ in range(10)]\n",
    "            else:\n",
    "                inc = 0\n",
    "                while len(values) < 10:\n",
    "                    values.append(round(first + inc, 1))\n",
    "                    inc += diff / 10\n",
    "                    \n",
    "            if \"x\" in var_in_mode[\"key\"]:\n",
    "                print(\"Adding {} to X\".format(len(values)))\n",
    "                x.extend(values)\n",
    "            else:\n",
    "                print(\"Adding {} to Y\".format(len(values)))\n",
    "                y.extend(values)\n",
    "                "
   ]
  },
  {
   "cell_type": "code",
   "execution_count": 53,
   "metadata": {},
   "outputs": [
    {
     "data": {
      "text/plain": [
       "True"
      ]
     },
     "execution_count": 53,
     "metadata": {},
     "output_type": "execute_result"
    }
   ],
   "source": [
    "len(x) == len(y)"
   ]
  },
  {
   "cell_type": "code",
   "execution_count": 55,
   "metadata": {},
   "outputs": [],
   "source": [
    "import matplotlib.pyplot as plt\n",
    "%matplotlib inline"
   ]
  },
  {
   "cell_type": "code",
   "execution_count": 60,
   "metadata": {},
   "outputs": [
    {
     "data": {
      "image/png": "[encoded data removed]",
      "text/plain": [
       "<Figure size 432x288 with 1 Axes>"
      ]
     },
     "metadata": {},
     "output_type": "display_data"
    }
   ],
   "source": [
    "plt.plot(x, y)\n",
    "plt.grid(True, \"both\")\n",
    "plt.show()"
   ]
  },
  {
   "cell_type": "code",
   "execution_count": null,
   "metadata": {},
   "outputs": [],
   "source": []
  }
 ],
 "metadata": {
  "kernelspec": {
   "display_name": "Python 3",
   "language": "python",
   "name": "python3"
  },
  "language_info": {
   "codemirror_mode": {
    "name": "ipython",
    "version": 3
   },
   "file_extension": ".py",
   "mimetype": "text/x-python",
   "name": "python",
   "nbconvert_exporter": "python",
   "pygments_lexer": "ipython3",
   "version": "3.6.8"
  }
 },
 "nbformat": 4,
 "nbformat_minor": 2
}
